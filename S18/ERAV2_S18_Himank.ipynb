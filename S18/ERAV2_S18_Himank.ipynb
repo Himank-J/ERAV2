{
  "nbformat": 4,
  "nbformat_minor": 0,
  "metadata": {
    "colab": {
      "provenance": [],
      "gpuType": "T4"
    },
    "kernelspec": {
      "name": "python3",
      "display_name": "Python 3"
    },
    "language_info": {
      "name": "python"
    },
    "accelerator": "GPU",
    "widgets": {
      "application/vnd.jupyter.widget-state+json": {
        "0531f71ebae148029d079d1adb531ffc": {
          "model_module": "@jupyter-widgets/controls",
          "model_name": "HBoxModel",
          "model_module_version": "1.5.0",
          "state": {
            "_dom_classes": [],
            "_model_module": "@jupyter-widgets/controls",
            "_model_module_version": "1.5.0",
            "_model_name": "HBoxModel",
            "_view_count": null,
            "_view_module": "@jupyter-widgets/controls",
            "_view_module_version": "1.5.0",
            "_view_name": "HBoxView",
            "box_style": "",
            "children": [
              "IPY_MODEL_952bf67b9e8440398da1f7cb19f40bf2",
              "IPY_MODEL_3ea7151106eb43f685663fe3515b1e82",
              "IPY_MODEL_ab58114ab8a14d1d9b0f8405f98f1697"
            ],
            "layout": "IPY_MODEL_1319855a57a44f118d6bdd99cd237dfc"
          }
        },
        "952bf67b9e8440398da1f7cb19f40bf2": {
          "model_module": "@jupyter-widgets/controls",
          "model_name": "HTMLModel",
          "model_module_version": "1.5.0",
          "state": {
            "_dom_classes": [],
            "_model_module": "@jupyter-widgets/controls",
            "_model_module_version": "1.5.0",
            "_model_name": "HTMLModel",
            "_view_count": null,
            "_view_module": "@jupyter-widgets/controls",
            "_view_module_version": "1.5.0",
            "_view_name": "HTMLView",
            "description": "",
            "description_tooltip": null,
            "layout": "IPY_MODEL_ee2e17e4711642799a993a0c69a21e99",
            "placeholder": "​",
            "style": "IPY_MODEL_a43dfffe6fc34126a2a16e1bb03fbe4b",
            "value": "Downloading readme: 100%"
          }
        },
        "3ea7151106eb43f685663fe3515b1e82": {
          "model_module": "@jupyter-widgets/controls",
          "model_name": "FloatProgressModel",
          "model_module_version": "1.5.0",
          "state": {
            "_dom_classes": [],
            "_model_module": "@jupyter-widgets/controls",
            "_model_module_version": "1.5.0",
            "_model_name": "FloatProgressModel",
            "_view_count": null,
            "_view_module": "@jupyter-widgets/controls",
            "_view_module_version": "1.5.0",
            "_view_name": "ProgressView",
            "bar_style": "success",
            "description": "",
            "description_tooltip": null,
            "layout": "IPY_MODEL_6aed8891f9274499b69adcb71eb11739",
            "max": 28064,
            "min": 0,
            "orientation": "horizontal",
            "style": "IPY_MODEL_529a1b4f51684101929ef596a8f24f49",
            "value": 28064
          }
        },
        "ab58114ab8a14d1d9b0f8405f98f1697": {
          "model_module": "@jupyter-widgets/controls",
          "model_name": "HTMLModel",
          "model_module_version": "1.5.0",
          "state": {
            "_dom_classes": [],
            "_model_module": "@jupyter-widgets/controls",
            "_model_module_version": "1.5.0",
            "_model_name": "HTMLModel",
            "_view_count": null,
            "_view_module": "@jupyter-widgets/controls",
            "_view_module_version": "1.5.0",
            "_view_name": "HTMLView",
            "description": "",
            "description_tooltip": null,
            "layout": "IPY_MODEL_868bf7fdae794d5aa670895e279cfa0a",
            "placeholder": "​",
            "style": "IPY_MODEL_2695df1993b14c87b003381482516bf8",
            "value": " 28.1k/28.1k [00:00&lt;00:00, 1.50MB/s]"
          }
        },
        "1319855a57a44f118d6bdd99cd237dfc": {
          "model_module": "@jupyter-widgets/base",
          "model_name": "LayoutModel",
          "model_module_version": "1.2.0",
          "state": {
            "_model_module": "@jupyter-widgets/base",
            "_model_module_version": "1.2.0",
            "_model_name": "LayoutModel",
            "_view_count": null,
            "_view_module": "@jupyter-widgets/base",
            "_view_module_version": "1.2.0",
            "_view_name": "LayoutView",
            "align_content": null,
            "align_items": null,
            "align_self": null,
            "border": null,
            "bottom": null,
            "display": null,
            "flex": null,
            "flex_flow": null,
            "grid_area": null,
            "grid_auto_columns": null,
            "grid_auto_flow": null,
            "grid_auto_rows": null,
            "grid_column": null,
            "grid_gap": null,
            "grid_row": null,
            "grid_template_areas": null,
            "grid_template_columns": null,
            "grid_template_rows": null,
            "height": null,
            "justify_content": null,
            "justify_items": null,
            "left": null,
            "margin": null,
            "max_height": null,
            "max_width": null,
            "min_height": null,
            "min_width": null,
            "object_fit": null,
            "object_position": null,
            "order": null,
            "overflow": null,
            "overflow_x": null,
            "overflow_y": null,
            "padding": null,
            "right": null,
            "top": null,
            "visibility": null,
            "width": null
          }
        },
        "ee2e17e4711642799a993a0c69a21e99": {
          "model_module": "@jupyter-widgets/base",
          "model_name": "LayoutModel",
          "model_module_version": "1.2.0",
          "state": {
            "_model_module": "@jupyter-widgets/base",
            "_model_module_version": "1.2.0",
            "_model_name": "LayoutModel",
            "_view_count": null,
            "_view_module": "@jupyter-widgets/base",
            "_view_module_version": "1.2.0",
            "_view_name": "LayoutView",
            "align_content": null,
            "align_items": null,
            "align_self": null,
            "border": null,
            "bottom": null,
            "display": null,
            "flex": null,
            "flex_flow": null,
            "grid_area": null,
            "grid_auto_columns": null,
            "grid_auto_flow": null,
            "grid_auto_rows": null,
            "grid_column": null,
            "grid_gap": null,
            "grid_row": null,
            "grid_template_areas": null,
            "grid_template_columns": null,
            "grid_template_rows": null,
            "height": null,
            "justify_content": null,
            "justify_items": null,
            "left": null,
            "margin": null,
            "max_height": null,
            "max_width": null,
            "min_height": null,
            "min_width": null,
            "object_fit": null,
            "object_position": null,
            "order": null,
            "overflow": null,
            "overflow_x": null,
            "overflow_y": null,
            "padding": null,
            "right": null,
            "top": null,
            "visibility": null,
            "width": null
          }
        },
        "a43dfffe6fc34126a2a16e1bb03fbe4b": {
          "model_module": "@jupyter-widgets/controls",
          "model_name": "DescriptionStyleModel",
          "model_module_version": "1.5.0",
          "state": {
            "_model_module": "@jupyter-widgets/controls",
            "_model_module_version": "1.5.0",
            "_model_name": "DescriptionStyleModel",
            "_view_count": null,
            "_view_module": "@jupyter-widgets/base",
            "_view_module_version": "1.2.0",
            "_view_name": "StyleView",
            "description_width": ""
          }
        },
        "6aed8891f9274499b69adcb71eb11739": {
          "model_module": "@jupyter-widgets/base",
          "model_name": "LayoutModel",
          "model_module_version": "1.2.0",
          "state": {
            "_model_module": "@jupyter-widgets/base",
            "_model_module_version": "1.2.0",
            "_model_name": "LayoutModel",
            "_view_count": null,
            "_view_module": "@jupyter-widgets/base",
            "_view_module_version": "1.2.0",
            "_view_name": "LayoutView",
            "align_content": null,
            "align_items": null,
            "align_self": null,
            "border": null,
            "bottom": null,
            "display": null,
            "flex": null,
            "flex_flow": null,
            "grid_area": null,
            "grid_auto_columns": null,
            "grid_auto_flow": null,
            "grid_auto_rows": null,
            "grid_column": null,
            "grid_gap": null,
            "grid_row": null,
            "grid_template_areas": null,
            "grid_template_columns": null,
            "grid_template_rows": null,
            "height": null,
            "justify_content": null,
            "justify_items": null,
            "left": null,
            "margin": null,
            "max_height": null,
            "max_width": null,
            "min_height": null,
            "min_width": null,
            "object_fit": null,
            "object_position": null,
            "order": null,
            "overflow": null,
            "overflow_x": null,
            "overflow_y": null,
            "padding": null,
            "right": null,
            "top": null,
            "visibility": null,
            "width": null
          }
        },
        "529a1b4f51684101929ef596a8f24f49": {
          "model_module": "@jupyter-widgets/controls",
          "model_name": "ProgressStyleModel",
          "model_module_version": "1.5.0",
          "state": {
            "_model_module": "@jupyter-widgets/controls",
            "_model_module_version": "1.5.0",
            "_model_name": "ProgressStyleModel",
            "_view_count": null,
            "_view_module": "@jupyter-widgets/base",
            "_view_module_version": "1.2.0",
            "_view_name": "StyleView",
            "bar_color": null,
            "description_width": ""
          }
        },
        "868bf7fdae794d5aa670895e279cfa0a": {
          "model_module": "@jupyter-widgets/base",
          "model_name": "LayoutModel",
          "model_module_version": "1.2.0",
          "state": {
            "_model_module": "@jupyter-widgets/base",
            "_model_module_version": "1.2.0",
            "_model_name": "LayoutModel",
            "_view_count": null,
            "_view_module": "@jupyter-widgets/base",
            "_view_module_version": "1.2.0",
            "_view_name": "LayoutView",
            "align_content": null,
            "align_items": null,
            "align_self": null,
            "border": null,
            "bottom": null,
            "display": null,
            "flex": null,
            "flex_flow": null,
            "grid_area": null,
            "grid_auto_columns": null,
            "grid_auto_flow": null,
            "grid_auto_rows": null,
            "grid_column": null,
            "grid_gap": null,
            "grid_row": null,
            "grid_template_areas": null,
            "grid_template_columns": null,
            "grid_template_rows": null,
            "height": null,
            "justify_content": null,
            "justify_items": null,
            "left": null,
            "margin": null,
            "max_height": null,
            "max_width": null,
            "min_height": null,
            "min_width": null,
            "object_fit": null,
            "object_position": null,
            "order": null,
            "overflow": null,
            "overflow_x": null,
            "overflow_y": null,
            "padding": null,
            "right": null,
            "top": null,
            "visibility": null,
            "width": null
          }
        },
        "2695df1993b14c87b003381482516bf8": {
          "model_module": "@jupyter-widgets/controls",
          "model_name": "DescriptionStyleModel",
          "model_module_version": "1.5.0",
          "state": {
            "_model_module": "@jupyter-widgets/controls",
            "_model_module_version": "1.5.0",
            "_model_name": "DescriptionStyleModel",
            "_view_count": null,
            "_view_module": "@jupyter-widgets/base",
            "_view_module_version": "1.2.0",
            "_view_name": "StyleView",
            "description_width": ""
          }
        },
        "e85139f3c879481e847e30efe42aa5b8": {
          "model_module": "@jupyter-widgets/controls",
          "model_name": "HBoxModel",
          "model_module_version": "1.5.0",
          "state": {
            "_dom_classes": [],
            "_model_module": "@jupyter-widgets/controls",
            "_model_module_version": "1.5.0",
            "_model_name": "HBoxModel",
            "_view_count": null,
            "_view_module": "@jupyter-widgets/controls",
            "_view_module_version": "1.5.0",
            "_view_name": "HBoxView",
            "box_style": "",
            "children": [
              "IPY_MODEL_24dc9fb1c2ab47ae974536d47d24be1c",
              "IPY_MODEL_ead2301770be454283301fad9fdb5862",
              "IPY_MODEL_9430ba95eaa647cdaac4f2cd1c711e50"
            ],
            "layout": "IPY_MODEL_e09679d530b74f9aae917f3b89e4eca2"
          }
        },
        "24dc9fb1c2ab47ae974536d47d24be1c": {
          "model_module": "@jupyter-widgets/controls",
          "model_name": "HTMLModel",
          "model_module_version": "1.5.0",
          "state": {
            "_dom_classes": [],
            "_model_module": "@jupyter-widgets/controls",
            "_model_module_version": "1.5.0",
            "_model_name": "HTMLModel",
            "_view_count": null,
            "_view_module": "@jupyter-widgets/controls",
            "_view_module_version": "1.5.0",
            "_view_name": "HTMLView",
            "description": "",
            "description_tooltip": null,
            "layout": "IPY_MODEL_3489223aa78647949bc1e907ade5b433",
            "placeholder": "​",
            "style": "IPY_MODEL_e9351a1341884239892a22f34af7bc09",
            "value": "Downloading data: 100%"
          }
        },
        "ead2301770be454283301fad9fdb5862": {
          "model_module": "@jupyter-widgets/controls",
          "model_name": "FloatProgressModel",
          "model_module_version": "1.5.0",
          "state": {
            "_dom_classes": [],
            "_model_module": "@jupyter-widgets/controls",
            "_model_module_version": "1.5.0",
            "_model_name": "FloatProgressModel",
            "_view_count": null,
            "_view_module": "@jupyter-widgets/controls",
            "_view_module_version": "1.5.0",
            "_view_name": "ProgressView",
            "bar_style": "success",
            "description": "",
            "description_tooltip": null,
            "layout": "IPY_MODEL_1d98048806e44f0aa51a5bf5d6c794c4",
            "max": 5726189,
            "min": 0,
            "orientation": "horizontal",
            "style": "IPY_MODEL_44b8360b228245299376ccec7b6e7fc9",
            "value": 5726189
          }
        },
        "9430ba95eaa647cdaac4f2cd1c711e50": {
          "model_module": "@jupyter-widgets/controls",
          "model_name": "HTMLModel",
          "model_module_version": "1.5.0",
          "state": {
            "_dom_classes": [],
            "_model_module": "@jupyter-widgets/controls",
            "_model_module_version": "1.5.0",
            "_model_name": "HTMLModel",
            "_view_count": null,
            "_view_module": "@jupyter-widgets/controls",
            "_view_module_version": "1.5.0",
            "_view_name": "HTMLView",
            "description": "",
            "description_tooltip": null,
            "layout": "IPY_MODEL_c3e689a99bbb4cf7ae534acc3f15e069",
            "placeholder": "​",
            "style": "IPY_MODEL_903079af78704e3dabca70a4d82da40f",
            "value": " 5.73M/5.73M [00:00&lt;00:00, 19.2MB/s]"
          }
        },
        "e09679d530b74f9aae917f3b89e4eca2": {
          "model_module": "@jupyter-widgets/base",
          "model_name": "LayoutModel",
          "model_module_version": "1.2.0",
          "state": {
            "_model_module": "@jupyter-widgets/base",
            "_model_module_version": "1.2.0",
            "_model_name": "LayoutModel",
            "_view_count": null,
            "_view_module": "@jupyter-widgets/base",
            "_view_module_version": "1.2.0",
            "_view_name": "LayoutView",
            "align_content": null,
            "align_items": null,
            "align_self": null,
            "border": null,
            "bottom": null,
            "display": null,
            "flex": null,
            "flex_flow": null,
            "grid_area": null,
            "grid_auto_columns": null,
            "grid_auto_flow": null,
            "grid_auto_rows": null,
            "grid_column": null,
            "grid_gap": null,
            "grid_row": null,
            "grid_template_areas": null,
            "grid_template_columns": null,
            "grid_template_rows": null,
            "height": null,
            "justify_content": null,
            "justify_items": null,
            "left": null,
            "margin": null,
            "max_height": null,
            "max_width": null,
            "min_height": null,
            "min_width": null,
            "object_fit": null,
            "object_position": null,
            "order": null,
            "overflow": null,
            "overflow_x": null,
            "overflow_y": null,
            "padding": null,
            "right": null,
            "top": null,
            "visibility": null,
            "width": null
          }
        },
        "3489223aa78647949bc1e907ade5b433": {
          "model_module": "@jupyter-widgets/base",
          "model_name": "LayoutModel",
          "model_module_version": "1.2.0",
          "state": {
            "_model_module": "@jupyter-widgets/base",
            "_model_module_version": "1.2.0",
            "_model_name": "LayoutModel",
            "_view_count": null,
            "_view_module": "@jupyter-widgets/base",
            "_view_module_version": "1.2.0",
            "_view_name": "LayoutView",
            "align_content": null,
            "align_items": null,
            "align_self": null,
            "border": null,
            "bottom": null,
            "display": null,
            "flex": null,
            "flex_flow": null,
            "grid_area": null,
            "grid_auto_columns": null,
            "grid_auto_flow": null,
            "grid_auto_rows": null,
            "grid_column": null,
            "grid_gap": null,
            "grid_row": null,
            "grid_template_areas": null,
            "grid_template_columns": null,
            "grid_template_rows": null,
            "height": null,
            "justify_content": null,
            "justify_items": null,
            "left": null,
            "margin": null,
            "max_height": null,
            "max_width": null,
            "min_height": null,
            "min_width": null,
            "object_fit": null,
            "object_position": null,
            "order": null,
            "overflow": null,
            "overflow_x": null,
            "overflow_y": null,
            "padding": null,
            "right": null,
            "top": null,
            "visibility": null,
            "width": null
          }
        },
        "e9351a1341884239892a22f34af7bc09": {
          "model_module": "@jupyter-widgets/controls",
          "model_name": "DescriptionStyleModel",
          "model_module_version": "1.5.0",
          "state": {
            "_model_module": "@jupyter-widgets/controls",
            "_model_module_version": "1.5.0",
            "_model_name": "DescriptionStyleModel",
            "_view_count": null,
            "_view_module": "@jupyter-widgets/base",
            "_view_module_version": "1.2.0",
            "_view_name": "StyleView",
            "description_width": ""
          }
        },
        "1d98048806e44f0aa51a5bf5d6c794c4": {
          "model_module": "@jupyter-widgets/base",
          "model_name": "LayoutModel",
          "model_module_version": "1.2.0",
          "state": {
            "_model_module": "@jupyter-widgets/base",
            "_model_module_version": "1.2.0",
            "_model_name": "LayoutModel",
            "_view_count": null,
            "_view_module": "@jupyter-widgets/base",
            "_view_module_version": "1.2.0",
            "_view_name": "LayoutView",
            "align_content": null,
            "align_items": null,
            "align_self": null,
            "border": null,
            "bottom": null,
            "display": null,
            "flex": null,
            "flex_flow": null,
            "grid_area": null,
            "grid_auto_columns": null,
            "grid_auto_flow": null,
            "grid_auto_rows": null,
            "grid_column": null,
            "grid_gap": null,
            "grid_row": null,
            "grid_template_areas": null,
            "grid_template_columns": null,
            "grid_template_rows": null,
            "height": null,
            "justify_content": null,
            "justify_items": null,
            "left": null,
            "margin": null,
            "max_height": null,
            "max_width": null,
            "min_height": null,
            "min_width": null,
            "object_fit": null,
            "object_position": null,
            "order": null,
            "overflow": null,
            "overflow_x": null,
            "overflow_y": null,
            "padding": null,
            "right": null,
            "top": null,
            "visibility": null,
            "width": null
          }
        },
        "44b8360b228245299376ccec7b6e7fc9": {
          "model_module": "@jupyter-widgets/controls",
          "model_name": "ProgressStyleModel",
          "model_module_version": "1.5.0",
          "state": {
            "_model_module": "@jupyter-widgets/controls",
            "_model_module_version": "1.5.0",
            "_model_name": "ProgressStyleModel",
            "_view_count": null,
            "_view_module": "@jupyter-widgets/base",
            "_view_module_version": "1.2.0",
            "_view_name": "StyleView",
            "bar_color": null,
            "description_width": ""
          }
        },
        "c3e689a99bbb4cf7ae534acc3f15e069": {
          "model_module": "@jupyter-widgets/base",
          "model_name": "LayoutModel",
          "model_module_version": "1.2.0",
          "state": {
            "_model_module": "@jupyter-widgets/base",
            "_model_module_version": "1.2.0",
            "_model_name": "LayoutModel",
            "_view_count": null,
            "_view_module": "@jupyter-widgets/base",
            "_view_module_version": "1.2.0",
            "_view_name": "LayoutView",
            "align_content": null,
            "align_items": null,
            "align_self": null,
            "border": null,
            "bottom": null,
            "display": null,
            "flex": null,
            "flex_flow": null,
            "grid_area": null,
            "grid_auto_columns": null,
            "grid_auto_flow": null,
            "grid_auto_rows": null,
            "grid_column": null,
            "grid_gap": null,
            "grid_row": null,
            "grid_template_areas": null,
            "grid_template_columns": null,
            "grid_template_rows": null,
            "height": null,
            "justify_content": null,
            "justify_items": null,
            "left": null,
            "margin": null,
            "max_height": null,
            "max_width": null,
            "min_height": null,
            "min_width": null,
            "object_fit": null,
            "object_position": null,
            "order": null,
            "overflow": null,
            "overflow_x": null,
            "overflow_y": null,
            "padding": null,
            "right": null,
            "top": null,
            "visibility": null,
            "width": null
          }
        },
        "903079af78704e3dabca70a4d82da40f": {
          "model_module": "@jupyter-widgets/controls",
          "model_name": "DescriptionStyleModel",
          "model_module_version": "1.5.0",
          "state": {
            "_model_module": "@jupyter-widgets/controls",
            "_model_module_version": "1.5.0",
            "_model_name": "DescriptionStyleModel",
            "_view_count": null,
            "_view_module": "@jupyter-widgets/base",
            "_view_module_version": "1.2.0",
            "_view_name": "StyleView",
            "description_width": ""
          }
        },
        "86fa620862a14391ad4a7d37e6c82374": {
          "model_module": "@jupyter-widgets/controls",
          "model_name": "HBoxModel",
          "model_module_version": "1.5.0",
          "state": {
            "_dom_classes": [],
            "_model_module": "@jupyter-widgets/controls",
            "_model_module_version": "1.5.0",
            "_model_name": "HBoxModel",
            "_view_count": null,
            "_view_module": "@jupyter-widgets/controls",
            "_view_module_version": "1.5.0",
            "_view_name": "HBoxView",
            "box_style": "",
            "children": [
              "IPY_MODEL_d14e86bc91fd4ed5b059a408fde988c7",
              "IPY_MODEL_9bef4f99508f457da82abc75c49141dd",
              "IPY_MODEL_30fed45dcda04eab8fa01ac005de703c"
            ],
            "layout": "IPY_MODEL_7452542acecd4e9db2608fff90415d43"
          }
        },
        "d14e86bc91fd4ed5b059a408fde988c7": {
          "model_module": "@jupyter-widgets/controls",
          "model_name": "HTMLModel",
          "model_module_version": "1.5.0",
          "state": {
            "_dom_classes": [],
            "_model_module": "@jupyter-widgets/controls",
            "_model_module_version": "1.5.0",
            "_model_name": "HTMLModel",
            "_view_count": null,
            "_view_module": "@jupyter-widgets/controls",
            "_view_module_version": "1.5.0",
            "_view_name": "HTMLView",
            "description": "",
            "description_tooltip": null,
            "layout": "IPY_MODEL_b1f3d8efc5eb450dada4df62c621b9f7",
            "placeholder": "​",
            "style": "IPY_MODEL_01933a47d4634713a5231fd66881a497",
            "value": "Generating train split: 100%"
          }
        },
        "9bef4f99508f457da82abc75c49141dd": {
          "model_module": "@jupyter-widgets/controls",
          "model_name": "FloatProgressModel",
          "model_module_version": "1.5.0",
          "state": {
            "_dom_classes": [],
            "_model_module": "@jupyter-widgets/controls",
            "_model_module_version": "1.5.0",
            "_model_name": "FloatProgressModel",
            "_view_count": null,
            "_view_module": "@jupyter-widgets/controls",
            "_view_module_version": "1.5.0",
            "_view_name": "ProgressView",
            "bar_style": "success",
            "description": "",
            "description_tooltip": null,
            "layout": "IPY_MODEL_47bbd14bcfbb4f83beaa8e51302c8ae7",
            "max": 32332,
            "min": 0,
            "orientation": "horizontal",
            "style": "IPY_MODEL_4bfb48679d784c3e9fd8d9dbea877197",
            "value": 32332
          }
        },
        "30fed45dcda04eab8fa01ac005de703c": {
          "model_module": "@jupyter-widgets/controls",
          "model_name": "HTMLModel",
          "model_module_version": "1.5.0",
          "state": {
            "_dom_classes": [],
            "_model_module": "@jupyter-widgets/controls",
            "_model_module_version": "1.5.0",
            "_model_name": "HTMLModel",
            "_view_count": null,
            "_view_module": "@jupyter-widgets/controls",
            "_view_module_version": "1.5.0",
            "_view_name": "HTMLView",
            "description": "",
            "description_tooltip": null,
            "layout": "IPY_MODEL_d500c82f4e2f47d1b6c2fd594a32d09f",
            "placeholder": "​",
            "style": "IPY_MODEL_1583903059cb43a1b27c444a72addf39",
            "value": " 32332/32332 [00:00&lt;00:00, 282654.41 examples/s]"
          }
        },
        "7452542acecd4e9db2608fff90415d43": {
          "model_module": "@jupyter-widgets/base",
          "model_name": "LayoutModel",
          "model_module_version": "1.2.0",
          "state": {
            "_model_module": "@jupyter-widgets/base",
            "_model_module_version": "1.2.0",
            "_model_name": "LayoutModel",
            "_view_count": null,
            "_view_module": "@jupyter-widgets/base",
            "_view_module_version": "1.2.0",
            "_view_name": "LayoutView",
            "align_content": null,
            "align_items": null,
            "align_self": null,
            "border": null,
            "bottom": null,
            "display": null,
            "flex": null,
            "flex_flow": null,
            "grid_area": null,
            "grid_auto_columns": null,
            "grid_auto_flow": null,
            "grid_auto_rows": null,
            "grid_column": null,
            "grid_gap": null,
            "grid_row": null,
            "grid_template_areas": null,
            "grid_template_columns": null,
            "grid_template_rows": null,
            "height": null,
            "justify_content": null,
            "justify_items": null,
            "left": null,
            "margin": null,
            "max_height": null,
            "max_width": null,
            "min_height": null,
            "min_width": null,
            "object_fit": null,
            "object_position": null,
            "order": null,
            "overflow": null,
            "overflow_x": null,
            "overflow_y": null,
            "padding": null,
            "right": null,
            "top": null,
            "visibility": null,
            "width": null
          }
        },
        "b1f3d8efc5eb450dada4df62c621b9f7": {
          "model_module": "@jupyter-widgets/base",
          "model_name": "LayoutModel",
          "model_module_version": "1.2.0",
          "state": {
            "_model_module": "@jupyter-widgets/base",
            "_model_module_version": "1.2.0",
            "_model_name": "LayoutModel",
            "_view_count": null,
            "_view_module": "@jupyter-widgets/base",
            "_view_module_version": "1.2.0",
            "_view_name": "LayoutView",
            "align_content": null,
            "align_items": null,
            "align_self": null,
            "border": null,
            "bottom": null,
            "display": null,
            "flex": null,
            "flex_flow": null,
            "grid_area": null,
            "grid_auto_columns": null,
            "grid_auto_flow": null,
            "grid_auto_rows": null,
            "grid_column": null,
            "grid_gap": null,
            "grid_row": null,
            "grid_template_areas": null,
            "grid_template_columns": null,
            "grid_template_rows": null,
            "height": null,
            "justify_content": null,
            "justify_items": null,
            "left": null,
            "margin": null,
            "max_height": null,
            "max_width": null,
            "min_height": null,
            "min_width": null,
            "object_fit": null,
            "object_position": null,
            "order": null,
            "overflow": null,
            "overflow_x": null,
            "overflow_y": null,
            "padding": null,
            "right": null,
            "top": null,
            "visibility": null,
            "width": null
          }
        },
        "01933a47d4634713a5231fd66881a497": {
          "model_module": "@jupyter-widgets/controls",
          "model_name": "DescriptionStyleModel",
          "model_module_version": "1.5.0",
          "state": {
            "_model_module": "@jupyter-widgets/controls",
            "_model_module_version": "1.5.0",
            "_model_name": "DescriptionStyleModel",
            "_view_count": null,
            "_view_module": "@jupyter-widgets/base",
            "_view_module_version": "1.2.0",
            "_view_name": "StyleView",
            "description_width": ""
          }
        },
        "47bbd14bcfbb4f83beaa8e51302c8ae7": {
          "model_module": "@jupyter-widgets/base",
          "model_name": "LayoutModel",
          "model_module_version": "1.2.0",
          "state": {
            "_model_module": "@jupyter-widgets/base",
            "_model_module_version": "1.2.0",
            "_model_name": "LayoutModel",
            "_view_count": null,
            "_view_module": "@jupyter-widgets/base",
            "_view_module_version": "1.2.0",
            "_view_name": "LayoutView",
            "align_content": null,
            "align_items": null,
            "align_self": null,
            "border": null,
            "bottom": null,
            "display": null,
            "flex": null,
            "flex_flow": null,
            "grid_area": null,
            "grid_auto_columns": null,
            "grid_auto_flow": null,
            "grid_auto_rows": null,
            "grid_column": null,
            "grid_gap": null,
            "grid_row": null,
            "grid_template_areas": null,
            "grid_template_columns": null,
            "grid_template_rows": null,
            "height": null,
            "justify_content": null,
            "justify_items": null,
            "left": null,
            "margin": null,
            "max_height": null,
            "max_width": null,
            "min_height": null,
            "min_width": null,
            "object_fit": null,
            "object_position": null,
            "order": null,
            "overflow": null,
            "overflow_x": null,
            "overflow_y": null,
            "padding": null,
            "right": null,
            "top": null,
            "visibility": null,
            "width": null
          }
        },
        "4bfb48679d784c3e9fd8d9dbea877197": {
          "model_module": "@jupyter-widgets/controls",
          "model_name": "ProgressStyleModel",
          "model_module_version": "1.5.0",
          "state": {
            "_model_module": "@jupyter-widgets/controls",
            "_model_module_version": "1.5.0",
            "_model_name": "ProgressStyleModel",
            "_view_count": null,
            "_view_module": "@jupyter-widgets/base",
            "_view_module_version": "1.2.0",
            "_view_name": "StyleView",
            "bar_color": null,
            "description_width": ""
          }
        },
        "d500c82f4e2f47d1b6c2fd594a32d09f": {
          "model_module": "@jupyter-widgets/base",
          "model_name": "LayoutModel",
          "model_module_version": "1.2.0",
          "state": {
            "_model_module": "@jupyter-widgets/base",
            "_model_module_version": "1.2.0",
            "_model_name": "LayoutModel",
            "_view_count": null,
            "_view_module": "@jupyter-widgets/base",
            "_view_module_version": "1.2.0",
            "_view_name": "LayoutView",
            "align_content": null,
            "align_items": null,
            "align_self": null,
            "border": null,
            "bottom": null,
            "display": null,
            "flex": null,
            "flex_flow": null,
            "grid_area": null,
            "grid_auto_columns": null,
            "grid_auto_flow": null,
            "grid_auto_rows": null,
            "grid_column": null,
            "grid_gap": null,
            "grid_row": null,
            "grid_template_areas": null,
            "grid_template_columns": null,
            "grid_template_rows": null,
            "height": null,
            "justify_content": null,
            "justify_items": null,
            "left": null,
            "margin": null,
            "max_height": null,
            "max_width": null,
            "min_height": null,
            "min_width": null,
            "object_fit": null,
            "object_position": null,
            "order": null,
            "overflow": null,
            "overflow_x": null,
            "overflow_y": null,
            "padding": null,
            "right": null,
            "top": null,
            "visibility": null,
            "width": null
          }
        },
        "1583903059cb43a1b27c444a72addf39": {
          "model_module": "@jupyter-widgets/controls",
          "model_name": "DescriptionStyleModel",
          "model_module_version": "1.5.0",
          "state": {
            "_model_module": "@jupyter-widgets/controls",
            "_model_module_version": "1.5.0",
            "_model_name": "DescriptionStyleModel",
            "_view_count": null,
            "_view_module": "@jupyter-widgets/base",
            "_view_module_version": "1.2.0",
            "_view_name": "StyleView",
            "description_width": ""
          }
        }
      }
    }
  },
  "cells": [
    {
      "cell_type": "code",
      "execution_count": 1,
      "metadata": {
        "colab": {
          "base_uri": "https://localhost:8080/"
        },
        "collapsed": true,
        "id": "az7Jax8IWPW2",
        "outputId": "51b3e669-6602-4105-f0d7-1afcb2c3e3cc"
      },
      "outputs": [
        {
          "output_type": "stream",
          "name": "stdout",
          "text": [
            "\u001b[2K     \u001b[90m━━━━━━━━━━━━━━━━━━━━━━━━━━━━━━━━━━━━━━━━\u001b[0m \u001b[32m542.1/542.1 kB\u001b[0m \u001b[31m8.0 MB/s\u001b[0m eta \u001b[36m0:00:00\u001b[0m\n",
            "\u001b[2K     \u001b[90m━━━━━━━━━━━━━━━━━━━━━━━━━━━━━━━━━━━━━━━━\u001b[0m \u001b[32m116.3/116.3 kB\u001b[0m \u001b[31m8.6 MB/s\u001b[0m eta \u001b[36m0:00:00\u001b[0m\n",
            "\u001b[2K     \u001b[90m━━━━━━━━━━━━━━━━━━━━━━━━━━━━━━━━━━━━━━━━\u001b[0m \u001b[32m64.9/64.9 kB\u001b[0m \u001b[31m10.6 MB/s\u001b[0m eta \u001b[36m0:00:00\u001b[0m\n",
            "\u001b[2K     \u001b[90m━━━━━━━━━━━━━━━━━━━━━━━━━━━━━━━━━━━━━━━━\u001b[0m \u001b[32m194.1/194.1 kB\u001b[0m \u001b[31m9.9 MB/s\u001b[0m eta \u001b[36m0:00:00\u001b[0m\n",
            "\u001b[2K     \u001b[90m━━━━━━━━━━━━━━━━━━━━━━━━━━━━━━━━━━━━━━━━\u001b[0m \u001b[32m134.8/134.8 kB\u001b[0m \u001b[31m8.5 MB/s\u001b[0m eta \u001b[36m0:00:00\u001b[0m\n",
            "\u001b[?25h\u001b[31mERROR: pip's dependency resolver does not currently take into account all the packages that are installed. This behaviour is the source of the following dependency conflicts.\n",
            "google-colab 1.0.0 requires requests==2.31.0, but you have requests 2.32.3 which is incompatible.\u001b[0m\u001b[31m\n",
            "\u001b[2K     \u001b[90m━━━━━━━━━━━━━━━━━━━━━━━━━━━━━━━━━━━━━━━━\u001b[0m \u001b[32m868.8/868.8 kB\u001b[0m \u001b[31m8.7 MB/s\u001b[0m eta \u001b[36m0:00:00\u001b[0m\n",
            "\u001b[2K     \u001b[90m━━━━━━━━━━━━━━━━━━━━━━━━━━━━━━━━━━━━━━━━\u001b[0m \u001b[32m21.3/21.3 MB\u001b[0m \u001b[31m60.0 MB/s\u001b[0m eta \u001b[36m0:00:00\u001b[0m\n",
            "\u001b[?25h"
          ]
        }
      ],
      "source": [
        "!pip install datasets -q --quiet\n",
        "!pip install tokenizers -q --quiet\n",
        "!pip install torchmetrics -q --quiet\n",
        "!pip install torchtext -q --quiet"
      ]
    },
    {
      "cell_type": "code",
      "source": [
        "from config import get_config\n",
        "cfg = get_config()\n",
        "cfg['batch_size'] = 64\n",
        "cfg['preload'] = None"
      ],
      "metadata": {
        "id": "yaWZmG9_XQ6J"
      },
      "execution_count": 4,
      "outputs": []
    },
    {
      "cell_type": "code",
      "source": [
        "from train import train_model\n",
        "import torch\n",
        "torch.cuda.amp.autocast(enabled=True)"
      ],
      "metadata": {
        "colab": {
          "base_uri": "https://localhost:8080/"
        },
        "id": "3jsBFFqDXS1E",
        "outputId": "f6503668-e81d-4d27-e056-322f5cf4a831"
      },
      "execution_count": 5,
      "outputs": [
        {
          "output_type": "stream",
          "name": "stderr",
          "text": [
            "/usr/local/lib/python3.10/dist-packages/torchtext/datasets/__init__.py:4: UserWarning: \n",
            "/!\\ IMPORTANT WARNING ABOUT TORCHTEXT STATUS /!\\ \n",
            "Torchtext is deprecated and the last released version will be 0.18 (this one). You can silence this warning by calling the following at the beginnign of your scripts: `import torchtext; torchtext.disable_torchtext_deprecation_warning()`\n",
            "  warnings.warn(torchtext._TORCHTEXT_DEPRECATION_MSG)\n",
            "/usr/local/lib/python3.10/dist-packages/torchtext/data/__init__.py:4: UserWarning: \n",
            "/!\\ IMPORTANT WARNING ABOUT TORCHTEXT STATUS /!\\ \n",
            "Torchtext is deprecated and the last released version will be 0.18 (this one). You can silence this warning by calling the following at the beginnign of your scripts: `import torchtext; torchtext.disable_torchtext_deprecation_warning()`\n",
            "  warnings.warn(torchtext._TORCHTEXT_DEPRECATION_MSG)\n"
          ]
        },
        {
          "output_type": "execute_result",
          "data": {
            "text/plain": [
              "<torch.cuda.amp.autocast_mode.autocast at 0x7dc278213d30>"
            ]
          },
          "metadata": {},
          "execution_count": 5
        }
      ]
    },
    {
      "cell_type": "code",
      "source": [
        "train_model(cfg)"
      ],
      "metadata": {
        "colab": {
          "base_uri": "https://localhost:8080/",
          "height": 1000,
          "referenced_widgets": [
            "0531f71ebae148029d079d1adb531ffc",
            "952bf67b9e8440398da1f7cb19f40bf2",
            "3ea7151106eb43f685663fe3515b1e82",
            "ab58114ab8a14d1d9b0f8405f98f1697",
            "1319855a57a44f118d6bdd99cd237dfc",
            "ee2e17e4711642799a993a0c69a21e99",
            "a43dfffe6fc34126a2a16e1bb03fbe4b",
            "6aed8891f9274499b69adcb71eb11739",
            "529a1b4f51684101929ef596a8f24f49",
            "868bf7fdae794d5aa670895e279cfa0a",
            "2695df1993b14c87b003381482516bf8",
            "e85139f3c879481e847e30efe42aa5b8",
            "24dc9fb1c2ab47ae974536d47d24be1c",
            "ead2301770be454283301fad9fdb5862",
            "9430ba95eaa647cdaac4f2cd1c711e50",
            "e09679d530b74f9aae917f3b89e4eca2",
            "3489223aa78647949bc1e907ade5b433",
            "e9351a1341884239892a22f34af7bc09",
            "1d98048806e44f0aa51a5bf5d6c794c4",
            "44b8360b228245299376ccec7b6e7fc9",
            "c3e689a99bbb4cf7ae534acc3f15e069",
            "903079af78704e3dabca70a4d82da40f",
            "86fa620862a14391ad4a7d37e6c82374",
            "d14e86bc91fd4ed5b059a408fde988c7",
            "9bef4f99508f457da82abc75c49141dd",
            "30fed45dcda04eab8fa01ac005de703c",
            "7452542acecd4e9db2608fff90415d43",
            "b1f3d8efc5eb450dada4df62c621b9f7",
            "01933a47d4634713a5231fd66881a497",
            "47bbd14bcfbb4f83beaa8e51302c8ae7",
            "4bfb48679d784c3e9fd8d9dbea877197",
            "d500c82f4e2f47d1b6c2fd594a32d09f",
            "1583903059cb43a1b27c444a72addf39"
          ]
        },
        "id": "HY69fJB6XVO-",
        "outputId": "e8a6df65-084d-4af1-c22c-dfc6649a3ef2"
      },
      "execution_count": 6,
      "outputs": [
        {
          "output_type": "stream",
          "name": "stdout",
          "text": [
            "Using device: cuda\n"
          ]
        },
        {
          "output_type": "stream",
          "name": "stderr",
          "text": [
            "/usr/local/lib/python3.10/dist-packages/huggingface_hub/utils/_token.py:89: UserWarning: \n",
            "The secret `HF_TOKEN` does not exist in your Colab secrets.\n",
            "To authenticate with the Hugging Face Hub, create a token in your settings tab (https://huggingface.co/settings/tokens), set it as secret in your Google Colab and restart your session.\n",
            "You will be able to reuse this secret in all of your notebooks.\n",
            "Please note that authentication is recommended but still optional to access public models or datasets.\n",
            "  warnings.warn(\n"
          ]
        },
        {
          "output_type": "display_data",
          "data": {
            "text/plain": [
              "Downloading readme:   0%|          | 0.00/28.1k [00:00<?, ?B/s]"
            ],
            "application/vnd.jupyter.widget-view+json": {
              "version_major": 2,
              "version_minor": 0,
              "model_id": "0531f71ebae148029d079d1adb531ffc"
            }
          },
          "metadata": {}
        },
        {
          "output_type": "display_data",
          "data": {
            "text/plain": [
              "Downloading data:   0%|          | 0.00/5.73M [00:00<?, ?B/s]"
            ],
            "application/vnd.jupyter.widget-view+json": {
              "version_major": 2,
              "version_minor": 0,
              "model_id": "e85139f3c879481e847e30efe42aa5b8"
            }
          },
          "metadata": {}
        },
        {
          "output_type": "display_data",
          "data": {
            "text/plain": [
              "Generating train split:   0%|          | 0/32332 [00:00<?, ? examples/s]"
            ],
            "application/vnd.jupyter.widget-view+json": {
              "version_major": 2,
              "version_minor": 0,
              "model_id": "86fa620862a14391ad4a7d37e6c82374"
            }
          },
          "metadata": {}
        },
        {
          "output_type": "stream",
          "name": "stdout",
          "text": [
            "Max length of source sentence: 309\n",
            "Max length of target sentence: 274\n"
          ]
        },
        {
          "output_type": "stream",
          "name": "stderr",
          "text": [
            "Processing Epoch 00: 100%|██████████| 242/242 [00:51<00:00,  4.70it/s, loss=6.194]\n"
          ]
        },
        {
          "output_type": "stream",
          "name": "stdout",
          "text": [
            "--------------------------------------------------------------------------------\n",
            "    SOURCE: 'And Anna? I am so glad!\n",
            "    TARGET: Come sono contenta!\n",
            " PREDICTED: — Non è che non è ?\n",
            "--------------------------------------------------------------------------------\n",
            "    SOURCE: 'Anna has acted excellently, and I at any rate shall not reproach her at all.\n",
            "    TARGET: “Anna ha agito benissimo, e io, poi, non starò certo a rimproverarla.\n",
            " PREDICTED: — Non non è non è e non non non non non non non non non non non non non non non non non non non non non non non .\n",
            "--------------------------------------------------------------------------------\n"
          ]
        },
        {
          "output_type": "stream",
          "name": "stderr",
          "text": [
            "Processing Epoch 01: 100%|██████████| 242/242 [00:50<00:00,  4.79it/s, loss=5.327]\n"
          ]
        },
        {
          "output_type": "stream",
          "name": "stdout",
          "text": [
            "--------------------------------------------------------------------------------\n",
            "    SOURCE: Only what you tell me. And what proof have I that you tell me the truth?'\n",
            "    TARGET: E come posso sapere che hai detto la verità?\n",
            " PREDICTED: Ma cosa mi pare che mi pare che mi pare che mi ?\n",
            "--------------------------------------------------------------------------------\n",
            "    SOURCE: Forgive me, please, if I have been rude to you,' said Levin.\n",
            "    TARGET: Scusami, ti prego, se sono stato villano con te. — disse Levin.\n",
            " PREDICTED: E se ne ho detto se ne ho detto di Levin — disse Levin .\n",
            "--------------------------------------------------------------------------------\n"
          ]
        },
        {
          "output_type": "stream",
          "name": "stderr",
          "text": [
            "Processing Epoch 02: 100%|██████████| 242/242 [00:50<00:00,  4.79it/s, loss=4.703]\n"
          ]
        },
        {
          "output_type": "stream",
          "name": "stdout",
          "text": [
            "--------------------------------------------------------------------------------\n",
            "    SOURCE: On the first of these occasions, she perpetrated the attempt to burn me in my bed; on the second, she paid that ghastly visit to you.\n",
            "    TARGET: \"La prima cercò di bruciarmi nel letto, la seconda entrò nella vostra camera.\n",
            " PREDICTED: Da prima della prima , si , e si in camera mia .\n",
            "--------------------------------------------------------------------------------\n",
            "    SOURCE: To go on living with me as my husband, and with her at the same time.... it's awful; you cannot realize...'\n",
            "    TARGET: Continuare ad essere mio marito e nello stesso tempo con lei... questo è orribile! Tu non puoi capire...\n",
            " PREDICTED: Per me lo stesso , e il marito , e lo stesso , lo stesso , non può essere a voi .\n",
            "--------------------------------------------------------------------------------\n"
          ]
        },
        {
          "output_type": "stream",
          "name": "stderr",
          "text": [
            "Processing Epoch 03: 100%|██████████| 242/242 [00:51<00:00,  4.74it/s, loss=3.924]\n"
          ]
        },
        {
          "output_type": "stream",
          "name": "stdout",
          "text": [
            "--------------------------------------------------------------------------------\n",
            "    SOURCE: I'm going to get out, and have a drink.\"\n",
            "    TARGET: Adesso vado fuori a bere qualcosa.\n",
            " PREDICTED: Io , ho bisogno di una cosa .\n",
            "--------------------------------------------------------------------------------\n",
            "    SOURCE: She might as well have said to the fire, \"don't burn!\" but how could she divine the morbid suffering to which I was a prey?\n",
            "    TARGET: Tanto valeva dire al fuoco di non bruciare; ma come avrebbe fatto ella a indovinare le sofferenze alle quali ero in preda?\n",
            " PREDICTED: Ella poteva essere — disse il fuoco , — ma non poteva essere come se stesso , ma come una di cui un ' altra .\n",
            "--------------------------------------------------------------------------------\n"
          ]
        },
        {
          "output_type": "stream",
          "name": "stderr",
          "text": [
            "Processing Epoch 04: 100%|██████████| 242/242 [00:51<00:00,  4.70it/s, loss=3.365]\n"
          ]
        },
        {
          "output_type": "stream",
          "name": "stdout",
          "text": [
            "--------------------------------------------------------------------------------\n",
            "    SOURCE: Yellows don't suit him: there can be no question about it.\n",
            "    TARGET: I gialli non gli si confanno: è indiscutibile.\n",
            " PREDICTED: Non lo , e non c ' è più .\n",
            "--------------------------------------------------------------------------------\n",
            "    SOURCE: But it's the only thing I know.\n",
            "    TARGET: Ma è l’unica che io so.\n",
            " PREDICTED: Ma è solo la cosa sola .\n",
            "--------------------------------------------------------------------------------\n"
          ]
        },
        {
          "output_type": "stream",
          "name": "stderr",
          "text": [
            "Processing Epoch 05: 100%|██████████| 242/242 [00:51<00:00,  4.71it/s, loss=2.997]\n"
          ]
        },
        {
          "output_type": "stream",
          "name": "stdout",
          "text": [
            "--------------------------------------------------------------------------------\n",
            "    SOURCE: If you were uneasy about me, you may be quite at ease now.\n",
            "    TARGET: E se temi per me, puoi star più tranquillo di prima.\n",
            " PREDICTED: Se per pena per me , per esser tranquillo .\n",
            "--------------------------------------------------------------------------------\n",
            "    SOURCE: 'He won't agree to a divorce! Whatever am I to do?'\n",
            "    TARGET: — Lui non vuole ancora consentire al divorzio.\n",
            " PREDICTED: — Ma non è d ’ accordo , il divorzio , non sono ?\n",
            "--------------------------------------------------------------------------------\n"
          ]
        },
        {
          "output_type": "stream",
          "name": "stderr",
          "text": [
            "Processing Epoch 06: 100%|██████████| 242/242 [00:51<00:00,  4.70it/s, loss=2.375]\n"
          ]
        },
        {
          "output_type": "stream",
          "name": "stdout",
          "text": [
            "--------------------------------------------------------------------------------\n",
            "    SOURCE: Presently I heard Pilot bark far below, out of his distant kennel in the courtyard: hope revived.\n",
            "    TARGET: Nello stesso momento udii Pilato abbaiare nella corte e mi sentii rinascere.\n",
            " PREDICTED: Pareva che Pilato mi saliva al suo posto , gli si di vento .\n",
            "--------------------------------------------------------------------------------\n",
            "    SOURCE: Do what you like to me.'\n",
            "    TARGET: Fate di me quel che volete.\n",
            " PREDICTED: Fate quel che volete me .\n",
            "--------------------------------------------------------------------------------\n"
          ]
        },
        {
          "output_type": "stream",
          "name": "stderr",
          "text": [
            "Processing Epoch 07: 100%|██████████| 242/242 [00:50<00:00,  4.76it/s, loss=2.135]\n"
          ]
        },
        {
          "output_type": "stream",
          "name": "stdout",
          "text": [
            "--------------------------------------------------------------------------------\n",
            "    SOURCE: On returning home he had been angry with his wife because she had not managed to pacify the landlady, who clamoured for the rent.\n",
            "    TARGET: Venuto a casa, si era arrabbiato con la moglie perché non aveva saputo destreggiarsi con la padrona di casa che pretendeva denaro.\n",
            " PREDICTED: Tornando a casa , , con la moglie , perchè la moglie , non aveva di calmare la moglie , che aveva di sopra .\n",
            "--------------------------------------------------------------------------------\n",
            "    SOURCE: We must speak, and so help one another.'\n",
            "    TARGET: Dobbiamo parlarne, e aiutarci l’un l’altro.\n",
            " PREDICTED: Bisogna parlare e ci un ’ altra .\n",
            "--------------------------------------------------------------------------------\n"
          ]
        },
        {
          "output_type": "stream",
          "name": "stderr",
          "text": [
            "Processing Epoch 08: 100%|██████████| 242/242 [00:51<00:00,  4.70it/s, loss=1.882]\n"
          ]
        },
        {
          "output_type": "stream",
          "name": "stdout",
          "text": [
            "--------------------------------------------------------------------------------\n",
            "    SOURCE: \"What to do?--where to go?\"\n",
            "    TARGET: — Per che farne? Per andar dove?\n",
            " PREDICTED: — Che cosa fare ? Dove ?\n",
            "--------------------------------------------------------------------------------\n",
            "    SOURCE: Discipline prevailed: in five minutes the confused throng was resolved into order, and comparative silence quelled the Babel clamour of tongues.\n",
            "    TARGET: Dopo dieci minuti regnava il silenzio.\n",
            " PREDICTED: cinque minuti al cinque e , dopo le fu , che non le discussioni che .\n",
            "--------------------------------------------------------------------------------\n"
          ]
        },
        {
          "output_type": "stream",
          "name": "stderr",
          "text": [
            "Processing Epoch 09: 100%|██████████| 242/242 [00:52<00:00,  4.62it/s, loss=1.728]\n"
          ]
        },
        {
          "output_type": "stream",
          "name": "stdout",
          "text": [
            "--------------------------------------------------------------------------------\n",
            "    SOURCE: The pepper when he pleases!'\n",
            "    TARGET: tutto il pepe che gli pare.\n",
            " PREDICTED: Il pepe in sé , egli se ciò !\n",
            "--------------------------------------------------------------------------------\n",
            "    SOURCE: Levin waved his hand angrily and went to the barn to look at the oats, then he came back to the stable.\n",
            "    TARGET: Levin agitò con rabbia la mano, andò in granaio a dare un’occhiata all’avena, e tornò alla stalla.\n",
            " PREDICTED: Levin gli fece tornare alla mano e andò le dal fienile che , se egli andava , se egli le venne , entrò .\n",
            "--------------------------------------------------------------------------------\n"
          ]
        },
        {
          "output_type": "stream",
          "name": "stderr",
          "text": [
            "Processing Epoch 10: 100%|██████████| 242/242 [00:53<00:00,  4.52it/s, loss=1.679]\n"
          ]
        },
        {
          "output_type": "stream",
          "name": "stdout",
          "text": [
            "--------------------------------------------------------------------------------\n",
            "    SOURCE: She was in the fifth box in the lower tier, some twenty paces from him.\n",
            "    TARGET: Era nel quinto palco della prima fila a venti passi da lui.\n",
            " PREDICTED: Era nella scuderia , non era più lontano di un ordine , e dall ’ altra parte .\n",
            "--------------------------------------------------------------------------------\n",
            "    SOURCE: 'What?\n",
            "    TARGET: — Ma come?\n",
            " PREDICTED: — Come ?\n",
            "--------------------------------------------------------------------------------\n"
          ]
        },
        {
          "output_type": "stream",
          "name": "stderr",
          "text": [
            "Processing Epoch 11: 100%|██████████| 242/242 [00:52<00:00,  4.59it/s, loss=1.574]\n"
          ]
        },
        {
          "output_type": "stream",
          "name": "stdout",
          "text": [
            "--------------------------------------------------------------------------------\n",
            "    SOURCE: He stopped outside the carriage, waiting till she appeared.\n",
            "    TARGET: Si fermò presso la vettura, ad aspettarla.\n",
            " PREDICTED: Si fermò la carrozza , mentre lei rimase contenta .\n",
            "--------------------------------------------------------------------------------\n",
            "    SOURCE: 'Where are you going?'\n",
            "    TARGET: — Dove vai?\n",
            " PREDICTED: — Dove vai ?\n",
            "--------------------------------------------------------------------------------\n"
          ]
        },
        {
          "output_type": "stream",
          "name": "stderr",
          "text": [
            "Processing Epoch 12: 100%|██████████| 242/242 [00:52<00:00,  4.59it/s, loss=1.523]\n"
          ]
        },
        {
          "output_type": "stream",
          "name": "stdout",
          "text": [
            "--------------------------------------------------------------------------------\n",
            "    SOURCE: 'It interests me because I like definiteness,' he replied.\n",
            "    TARGET: — Io me ne interesso perché mi piace la chiarezza — egli disse.\n",
            " PREDICTED: — interessa me , è l ’ aria di lui — disse .\n",
            "--------------------------------------------------------------------------------\n",
            "    SOURCE: Good evening!\"\n",
            "    TARGET: Buona sera!\n",
            " PREDICTED: Buona sera !\n",
            "--------------------------------------------------------------------------------\n"
          ]
        },
        {
          "output_type": "stream",
          "name": "stderr",
          "text": [
            "Processing Epoch 13: 100%|██████████| 242/242 [00:52<00:00,  4.64it/s, loss=1.506]\n"
          ]
        },
        {
          "output_type": "stream",
          "name": "stdout",
          "text": [
            "--------------------------------------------------------------------------------\n",
            "    SOURCE: \"I will be a dressmaker; I will be a plain-workwoman; I will be a servant, a nurse-girl, if I can be no better,\" I answered.\n",
            "    TARGET: — Farei la sarta, la cucitrice di bianco, la serva, la bambinaia, se non trovassi di meglio, — risposi.\n",
            " PREDICTED: — Vengo , — mi domandai . Era infatti un che è di biancheria .\n",
            "--------------------------------------------------------------------------------\n",
            "    SOURCE: \"The late!\" I gasped. \"Is he dead?\"\n",
            "    TARGET: — Defunto! — mormorai. — È forse morto?\n",
            " PREDICTED: — È tardi ! — esclamai . — È morta ?\n",
            "--------------------------------------------------------------------------------\n"
          ]
        },
        {
          "output_type": "stream",
          "name": "stderr",
          "text": [
            "Processing Epoch 14: 100%|██████████| 242/242 [00:52<00:00,  4.58it/s, loss=1.476]\n"
          ]
        },
        {
          "output_type": "stream",
          "name": "stdout",
          "text": [
            "--------------------------------------------------------------------------------\n",
            "    SOURCE: Though I am sorry that he goes there so often, yet I am also glad of it.\n",
            "    TARGET: Per quanto sia triste, il fatto che vada spesso là, mi fa piacere.\n",
            " PREDICTED: E , mi fa così che ci sono spesso . Anche con me ne sono contenta .\n",
            "--------------------------------------------------------------------------------\n",
            "    SOURCE: Not as I wished to love, but still I do love him; but Anna did not love hers.\n",
            "    TARGET: Non così come vorrei amarlo, ma lo amo e Anna non amava il suo.\n",
            " PREDICTED: Non volevo bene , ma io non lo amo , e Anna non l ’ amore .\n",
            "--------------------------------------------------------------------------------\n"
          ]
        },
        {
          "output_type": "stream",
          "name": "stderr",
          "text": [
            "Processing Epoch 15: 100%|██████████| 242/242 [00:51<00:00,  4.68it/s, loss=1.456]\n"
          ]
        },
        {
          "output_type": "stream",
          "name": "stdout",
          "text": [
            "--------------------------------------------------------------------------------\n",
            "    SOURCE: \"No, Mrs. Reed.\"\n",
            "    TARGET: — No, signora Reed.\n",
            " PREDICTED: — No , signora Reed .\n",
            "--------------------------------------------------------------------------------\n",
            "    SOURCE: Yes, of course I will go,' he decided, lifting his eyes from the book, and a vivid sense of the joy of seeing her made his face radiant.\n",
            "    TARGET: Certo che andrò” decise fra sé, sollevando la testa dal libro. E, raffiguratasi la gioia nel vederla, si illuminò nel viso.\n",
            " PREDICTED: Sì , s ’ intende , io andrò — decise la mia soddisfazione , il libro di nuovo accesso di gioia e di gioia le cose che mi .\n",
            "--------------------------------------------------------------------------------\n"
          ]
        },
        {
          "output_type": "stream",
          "name": "stderr",
          "text": [
            "Processing Epoch 16: 100%|██████████| 242/242 [00:51<00:00,  4.73it/s, loss=1.441]\n"
          ]
        },
        {
          "output_type": "stream",
          "name": "stdout",
          "text": [
            "--------------------------------------------------------------------------------\n",
            "    SOURCE: \"Ah!\" we said, as we stood looking out at them through the window, \"won't they come home soaked!\"\n",
            "    TARGET: — Ah! — dicevamo, guardando, di fuori — ritorneranno a casa fradici!\n",
            " PREDICTED: — Oh ! — disse quando avevamo cessato di vedere il finestrino . — Tanto non si a casa , non siamo spiritualmente .\n",
            "--------------------------------------------------------------------------------\n",
            "    SOURCE: \"Old John and his wife: he would have none else. He is quite broken down, they say.\"\n",
            "    TARGET: — Il vecchio John e la moglie; non ha voluto altri; si dice che sia proprio abbattuto.\n",
            " PREDICTED: — Il signor John e la moglie non è rimasto quasi più , che questa è rotto la moglie .\n",
            "--------------------------------------------------------------------------------\n"
          ]
        },
        {
          "output_type": "stream",
          "name": "stderr",
          "text": [
            "Processing Epoch 17: 100%|██████████| 242/242 [00:50<00:00,  4.75it/s, loss=1.438]\n"
          ]
        },
        {
          "output_type": "stream",
          "name": "stdout",
          "text": [
            "--------------------------------------------------------------------------------\n",
            "    SOURCE: Oh dear, what nonsense I'm talking!'\n",
            "    TARGET: “Poveretta me! quante sciocchezze dico!”\n",
            " PREDICTED: Che sciocchezza , che sciocchezze !\n",
            "--------------------------------------------------------------------------------\n",
            "    SOURCE: 'I was only going to say that...'\n",
            "    TARGET: — Io volevo dire solo che....\n",
            " PREDICTED: — Volevo dire solo per dirvi che ....\n",
            "--------------------------------------------------------------------------------\n"
          ]
        }
      ]
    }
  ]
}